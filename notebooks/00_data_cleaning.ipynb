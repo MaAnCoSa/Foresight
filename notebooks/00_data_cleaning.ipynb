{
 "cells": [
  {
   "cell_type": "markdown",
   "id": "c4308e23",
   "metadata": {},
   "source": [
    "## Data Cleaning"
   ]
  },
  {
   "cell_type": "code",
   "execution_count": 1,
   "id": "6bde4adb",
   "metadata": {},
   "outputs": [],
   "source": [
    "import pandas as pd\n",
    "import numpy as np\n",
    "import sklearn\n",
    "from sklearn.model_selection import train_test_split\n",
    "import os\n",
    "import random"
   ]
  },
  {
   "cell_type": "code",
   "execution_count": 2,
   "id": "8462368d",
   "metadata": {},
   "outputs": [],
   "source": [
    "FORESIGHT_DIRECTORY = os.path.abspath(os.path.join(os.getcwd(), os.pardir))\n",
    "\n",
    "DATA_RAW_DIRECTORY = os.path.join(FORESIGHT_DIRECTORY, \"data\", \"raw\")\n",
    "DATA_INTERIM_DIRECTORY = os.path.join(FORESIGHT_DIRECTORY, \"data\", \"interim\")\n",
    "\n",
    "# Nombre de archivo\n",
    "DATA_FILENAME = \"combat_results_lvl_5.csv\"\n",
    "\n",
    "# Rutas completas\n",
    "FILE_PATH = os.path.join(DATA_RAW_DIRECTORY, DATA_FILENAME)"
   ]
  },
  {
   "cell_type": "code",
   "execution_count": 3,
   "id": "8ae51ae4",
   "metadata": {},
   "outputs": [],
   "source": [
    "df = pd.read_csv(FILE_PATH)\n",
    "df = df.iloc[:,1:]"
   ]
  },
  {
   "cell_type": "markdown",
   "id": "3e449a7b",
   "metadata": {},
   "source": [
    "## Creating the `num_players` Column\n",
    "\n",
    "In this section, we will create a new column called `num_players`. This column will capture the number of heroes present in each party based on the hero class columns (`pc2_class`, `pc3_class`, ..., `pc7_class`). The logic behind this is straightforward:\n",
    "\n",
    "- If `pc2_class` is `\"-\"`, then only one hero is present, and `num_players` will be set to 1.\n",
    "- If `pc2_class` is valid but `pc3_class` is `\"-\"`, then there are two heroes, and `num_players` will be 2.\n",
    "- Similarly, we continue this pattern up to `pc7_class`. If none of these columns contain `\"-\"`, then `num_players` will be 7.\n",
    "\n",
    "This derived column will provide us with a clear measure of the party's composition, which is critical for subsequent analysis and modeling of encounter difficulty."
   ]
  },
  {
   "cell_type": "code",
   "execution_count": 4,
   "id": "361adac2",
   "metadata": {},
   "outputs": [],
   "source": [
    "def determine_num_players(row):\n",
    "    if row[\"pc2_class\"] == \"-\":\n",
    "        return 1\n",
    "    elif row[\"pc3_class\"] == \"-\":\n",
    "        return 2\n",
    "    elif row[\"pc4_class\"] == \"-\":\n",
    "        return 3\n",
    "    elif row[\"pc5_class\"] == \"-\":\n",
    "        return 4\n",
    "    elif row[\"pc6_class\"] == \"-\":\n",
    "        return 5\n",
    "    elif row[\"pc7_class\"] == \"-\":\n",
    "        return 6\n",
    "    else:\n",
    "        return 7\n",
    "\n",
    "df[\"num_players\"] = df.apply(determine_num_players, axis=1)"
   ]
  },
  {
   "cell_type": "markdown",
   "id": "36de38dd",
   "metadata": {},
   "source": [
    "## Treating 0 and '-' as Null Values\n",
    "\n",
    "In this section, we will classify any values that are either `0` or `\"-\"` as missing (null) in our dataset. This reclassification helps ensure that our subsequent analyses and visualizations work with accurate representations of the data, as these values often indicate the absence of meaningful data.\n",
    "\n",
    "By converting `0` and `\"-\"` to null, we can more easily filter, impute, or exclude these values during our exploratory data analysis and modeling processes."
   ]
  },
  {
   "cell_type": "code",
   "execution_count": 5,
   "id": "3138abf8",
   "metadata": {},
   "outputs": [],
   "source": [
    "# Definir los índices de columnas a revisar (indexación desde 0)\n",
    "indices_to_check = [10, 20, 30, 40, 50, 60, 70, 80, 90, 100, 110, 120, 130]\n",
    "total_cols = df.shape[1]  # número total de columnas\n",
    "\n",
    "# Iterar sobre los índices especificados\n",
    "for idx in indices_to_check:\n",
    "    # Obtener el nombre de la columna\n",
    "    check_col = df.columns[idx]\n",
    "\n",
    "    # Reemplazar '-' por NaN en esa columna\n",
    "    df[check_col] = df[check_col].replace(\"-\", np.nan)\n",
    "\n",
    "    # Crear una máscara donde esa columna es NaN\n",
    "    condition = df[check_col].isna()\n",
    "\n",
    "    # Determinar el rango de las siguientes 9 columnas o hasta el final del DataFrame\n",
    "    start = idx + 1\n",
    "    end = min(idx + 10, total_cols)\n",
    "\n",
    "    # Iterar sobre las columnas siguientes\n",
    "    for j in range(start, end):\n",
    "        col_to_update = df.columns[j]\n",
    "\n",
    "        # Reemplazar por NaN si la condición es True, mantener el valor original si es False\n",
    "        df.loc[condition, col_to_update] = np.nan\n"
   ]
  },
  {
   "cell_type": "markdown",
   "id": "b18c7b9a",
   "metadata": {},
   "source": [
    "## Removing Columns with All Null Values\n",
    "\n",
    "In this section, we will eliminate any columns that contain only null values. Removing these columns helps clean the dataset by discarding features that do not provide any useful information for our analysis or modeling."
   ]
  },
  {
   "cell_type": "code",
   "execution_count": 6,
   "id": "731b64bc",
   "metadata": {},
   "outputs": [],
   "source": [
    "# Obtener el conteo de nulos por columna\n",
    "null_counts = df.isnull().sum()\n",
    "\n",
    "# Total de filas del DataFrame\n",
    "total_rows = len(df)\n",
    "\n",
    "# Identificar las columnas que tienen al menos un valor no nulo\n",
    "columns_to_keep = [col for col in df.columns if null_counts[col] < total_rows]\n",
    "\n",
    "# Seleccionar únicamente esas columnas\n",
    "df = df[columns_to_keep]"
   ]
  },
  {
   "cell_type": "markdown",
   "id": "a1a8cabf",
   "metadata": {},
   "source": [
    "Finally, we will save it in a dataset called `combat_results.csv`."
   ]
  },
  {
   "cell_type": "code",
   "execution_count": 7,
   "id": "8c8492dc",
   "metadata": {},
   "outputs": [],
   "source": [
    "df.to_csv(os.path.join(DATA_INTERIM_DIRECTORY, \"combat_results.csv\"), index=False)\n"
   ]
  }
 ],
 "metadata": {
  "kernelspec": {
   "display_name": "venv",
   "language": "python",
   "name": "python3"
  },
  "language_info": {
   "codemirror_mode": {
    "name": "ipython",
    "version": 3
   },
   "file_extension": ".py",
   "mimetype": "text/x-python",
   "name": "python",
   "nbconvert_exporter": "python",
   "pygments_lexer": "ipython3",
   "version": "3.12.7"
  }
 },
 "nbformat": 4,
 "nbformat_minor": 5
}
