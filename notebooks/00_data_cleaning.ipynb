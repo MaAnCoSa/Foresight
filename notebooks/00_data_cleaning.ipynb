{
 "cells": [
  {
   "cell_type": "markdown",
   "id": "c4308e23",
   "metadata": {},
   "source": [
    "## Data Cleaning"
   ]
  },
  {
   "cell_type": "code",
   "execution_count": null,
   "id": "6bde4adb",
   "metadata": {},
   "outputs": [],
   "source": [
    "import polars as pl\n",
    "import sklearn\n",
    "from sklearn.model_selection import train_test_split\n",
    "import os\n",
    "import random"
   ]
  },
  {
   "cell_type": "code",
   "execution_count": null,
   "id": "8462368d",
   "metadata": {},
   "outputs": [],
   "source": [
    "FORESIGHT_DIRECTORY = os.path.abspath(os.path.join(os.getcwd(), os.pardir))\n",
    "\n",
    "DATA_RAW_DIRECTORY = os.path.join(FORESIGHT_DIRECTORY, \"data\", \"raw\")\n",
    "DATA_INTERIM_DIRECTORY = os.path.join(FORESIGHT_DIRECTORY, \"data\", \"interim\")\n",
    "\n",
    "# Nombre de archivo\n",
    "DATA_FILENAME = \"num_monsters_3_combat_results.csv\"\n",
    "\n",
    "# Rutas completas\n",
    "FILE_PATH = os.path.join(DATA_RAW_DIRECTORY, DATA_FILENAME)"
   ]
  },
  {
   "cell_type": "code",
   "execution_count": null,
   "id": "8ae51ae4",
   "metadata": {},
   "outputs": [],
   "source": [
    "df = pl.read_csv(FILE_PATH)\n",
    "df = df[:,1:]"
   ]
  },
  {
   "cell_type": "markdown",
   "id": "3e449a7b",
   "metadata": {},
   "source": [
    "## Creating the `num_players` Column\n",
    "\n",
    "In this section, we will create a new column called `num_players`. This column will capture the number of heroes present in each party based on the hero class columns (`pc2_class`, `pc3_class`, ..., `pc7_class`). The logic behind this is straightforward:\n",
    "\n",
    "- If `pc2_class` is `\"-\"`, then only one hero is present, and `num_players` will be set to 1.\n",
    "- If `pc2_class` is valid but `pc3_class` is `\"-\"`, then there are two heroes, and `num_players` will be 2.\n",
    "- Similarly, we continue this pattern up to `pc7_class`. If none of these columns contain `\"-\"`, then `num_players` will be 7.\n",
    "\n",
    "This derived column will provide us with a clear measure of the party's composition, which is critical for subsequent analysis and modeling of encounter difficulty."
   ]
  },
  {
   "cell_type": "code",
   "execution_count": null,
   "id": "361adac2",
   "metadata": {},
   "outputs": [],
   "source": [
    "# Create the new column \"num_players\" based on the conditions\n",
    "df = df.with_columns([\n",
    "    pl.when(pl.col(\"pc2_class\") == \"-\").then(1)\n",
    "      .otherwise(\n",
    "          pl.when(pl.col(\"pc3_class\") == \"-\").then(2)\n",
    "          .otherwise(\n",
    "              pl.when(pl.col(\"pc4_class\") == \"-\").then(3)\n",
    "              .otherwise(\n",
    "                  pl.when(pl.col(\"pc5_class\") == \"-\").then(4)\n",
    "                  .otherwise(\n",
    "                      pl.when(pl.col(\"pc6_class\") == \"-\").then(5)\n",
    "                      .otherwise(\n",
    "                          pl.when(pl.col(\"pc7_class\") == \"-\").then(6)\n",
    "                          .otherwise(7)\n",
    "                      )\n",
    "                  )\n",
    "              )\n",
    "          )\n",
    "      ).alias(\"num_players\")\n",
    "])"
   ]
  },
  {
   "cell_type": "markdown",
   "id": "36de38dd",
   "metadata": {},
   "source": [
    "## Treating 0 and '-' as Null Values\n",
    "\n",
    "In this section, we will classify any values that are either `0` or `\"-\"` as missing (null) in our dataset. This reclassification helps ensure that our subsequent analyses and visualizations work with accurate representations of the data, as these values often indicate the absence of meaningful data.\n",
    "\n",
    "By converting `0` and `\"-\"` to null, we can more easily filter, impute, or exclude these values during our exploratory data analysis and modeling processes."
   ]
  },
  {
   "cell_type": "code",
   "execution_count": null,
   "id": "3138abf8",
   "metadata": {},
   "outputs": [],
   "source": [
    "# Define the column indices to check (using zero-based indexing)\n",
    "indices_to_check = [10, 20, 30, 40, 50, 60, 70, 80, 90, 100, 110, 120, 130]\n",
    "total_cols = df.width  # total number of columns in the DataFrame\n",
    "\n",
    "# Iterate over the specified indices\n",
    "for idx in indices_to_check:\n",
    "    # Get the column name at index \"idx\"\n",
    "    check_col = df.columns[idx]\n",
    "    \n",
    "    # Replace '-' in the check column itself with null.\n",
    "    df = df.with_columns([\n",
    "        pl.when(pl.col(check_col) == \"-\")\n",
    "          .then(pl.lit(None))\n",
    "          .otherwise(pl.col(check_col))\n",
    "          .alias(check_col)\n",
    "    ])\n",
    "    \n",
    "    # Build a condition: True for rows where the value in the check column is now null (i.e. was '-')\n",
    "    condition = pl.col(check_col).is_null()\n",
    "    \n",
    "    # Determine the range of the following nine columns (or until the end)\n",
    "    start = idx + 1\n",
    "    end = min(idx + 10, total_cols)  # ensures we don't go out-of-bound\n",
    "    \n",
    "    # Loop over each of the subsequent nine columns\n",
    "    for j in range(start, end):\n",
    "        col_to_update = df.columns[j]\n",
    "        # Update the column: set to null if condition is met, otherwise keep original value\n",
    "        df = df.with_columns([\n",
    "            pl.when(condition)\n",
    "              .then(pl.lit(None))\n",
    "              .otherwise(pl.col(col_to_update))\n",
    "              .alias(col_to_update)\n",
    "        ])"
   ]
  },
  {
   "cell_type": "markdown",
   "id": "b18c7b9a",
   "metadata": {},
   "source": [
    "## Removing Columns with All Null Values\n",
    "\n",
    "In this section, we will eliminate any columns that contain only null values. Removing these columns helps clean the dataset by discarding features that do not provide any useful information for our analysis or modeling."
   ]
  },
  {
   "cell_type": "code",
   "execution_count": null,
   "id": "731b64bc",
   "metadata": {},
   "outputs": [],
   "source": [
    "# Get the tuple of null counts for each column (ordered by df.columns)\n",
    "null_counts = df.null_count().row(0)\n",
    "\n",
    "# Get the total number of rows in the DataFrame\n",
    "total_rows = df.height\n",
    "\n",
    "# Identify columns where not all values are null using indices\n",
    "columns_to_keep = [col for i, col in enumerate(df.columns) if null_counts[i] < total_rows]\n",
    "\n",
    "# Select only the columns that have at least one non-null value\n",
    "df = df.select(columns_to_keep)"
   ]
  },
  {
   "cell_type": "markdown",
   "id": "a1a8cabf",
   "metadata": {},
   "source": [
    "Finally, we will save it in a dataset called `combat_results.csv`."
   ]
  },
  {
   "cell_type": "code",
   "execution_count": null,
   "id": "8c8492dc",
   "metadata": {},
   "outputs": [],
   "source": [
    "df.write_csv(os.path.join(DATA_INTERIM_DIRECTORY, \"combat_results.csv\"))"
   ]
  }
 ],
 "metadata": {
  "language_info": {
   "name": "python"
  }
 },
 "nbformat": 4,
 "nbformat_minor": 5
}
